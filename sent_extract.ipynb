{
 "cells": [
  {
   "cell_type": "code",
   "execution_count": 1,
   "id": "7b0f7d89-62fd-47e0-8ef0-62c0e6529692",
   "metadata": {},
   "outputs": [],
   "source": [
    "from openpyxl import Workbook, load_workbook\n",
    "from docx import Document\n",
    "from string import punctuation\n",
    "import pandas as pd\n",
    "import numpy as np\n",
    "from sklearn.metrics import cohen_kappa_score\n",
    "import matplotlib.pyplot as plt \n",
    "\n",
    "import os\n",
    "import re\n",
    "\n",
    "import warnings\n",
    "warnings.filterwarnings('ignore')"
   ]
  },
  {
   "cell_type": "code",
   "execution_count": 2,
   "id": "5e734bc4-1fbe-4aa3-ab09-e02ecd9a2cd4",
   "metadata": {},
   "outputs": [],
   "source": [
    "color_2_num = {\n",
    "    'YELLOW' : 7,\n",
    "    'BRIGHT_GREEN' : 4,\n",
    "    'DARK_YELLOW' : 14,\n",
    "    'RED' : 6,\n",
    "    'TURQUOISE' : 3,\n",
    "    'GRAY' : 16\n",
    "}\n",
    "\n",
    "color_2_label = {\n",
    "    'YELLOW' : \"Thesis\",\n",
    "    'BRIGHT_GREEN' : \"Organizational Framework\",\n",
    "    'DARK_YELLOW' : \"Rhetorical Structure - Focus\",\n",
    "    'RED' : \"Evidence\",\n",
    "    'TURQUOISE' : \"Reasoning\",\n",
    "    'GRAY' : \"Rhetorical Structure - Progression\"\n",
    "}\n",
    "\n",
    "name_mapping = {\"AC\" : \"Andrew Chapman\",\n",
    "                \"AN\" : \"Ashlan Stewart\",\n",
    "                \"BA\" : \"Beatriz Acosta-Tsvilin\",\n",
    "                \"JM\" : \"Jasmine McCray\",\n",
    "                \"JD\" : \"Jessica Dobbs\",\n",
    "                \"MK\" : \"Maliha Kabir\",\n",
    "                \"MB\" : \"Marina Banchetti\",\n",
    "                \"NC\" : \"Nikki Chasteen\",\n",
    "                \"SN\" : \"Sarah Nielsen\"}\n",
    "\n",
    "id_mapping = {\"AC\" : 'C',\n",
    "               \"AN\" : 'D',\n",
    "               \"BA\" : 'E',\n",
    "               \"JM\" : 'F',\n",
    "               \"JD\" : 'G',\n",
    "               \"MK\" : 'H',\n",
    "               \"MB\" : 'I',\n",
    "               \"NC\" : 'J',\n",
    "               \"SN\" : 'K'}\n",
    "\n",
    "cust_punct = '!@#$%^&*()-=_+`~[]\\{}|;:,./<>?' + '\"' + \"'\" + '“”„‟‘’‚‛' + '\\n' + ' ' # + ' '\n",
    "alpha_num = '[^a-zA-Z0-9]'"
   ]
  },
  {
   "cell_type": "code",
   "execution_count": 3,
   "id": "fe4614e1-ffc4-48db-af57-a0ce056befb6",
   "metadata": {},
   "outputs": [],
   "source": [
    "root_folder = 'input_files_v3'\n",
    "folder_names = os.listdir(root_folder + '/')\n",
    "\n",
    "root_save_folder = 'output_files'"
   ]
  },
  {
   "cell_type": "code",
   "execution_count": 4,
   "id": "5b68b6bf-bfab-45cf-84d9-f610fce0705b",
   "metadata": {},
   "outputs": [
    {
     "name": "stdout",
     "output_type": "stream",
     "text": [
      "Total Files - 192\n"
     ]
    }
   ],
   "source": [
    "# creating a set of all file IDs\n",
    "id_locations = dict()\n",
    "for folder in folder_names:\n",
    "    grader_folders = os.listdir(root_folder + '/' + folder + '/')\n",
    "    for grader_folder in grader_folders:\n",
    "        file_names = os.listdir(root_folder + '/' + folder + '/' + grader_folder + '/')\n",
    "        for file in file_names:\n",
    "            name, ext = os.path.splitext(file)\n",
    "            if ext != '.docx':\n",
    "                print('/' + grader_folder + '/' + file)\n",
    "                continue\n",
    "            file_id = file.split('-')[0]\n",
    "            if file_id in id_locations:\n",
    "                id_locations[file_id].append(root_folder + '/' + folder + '/' + grader_folder + '/' + file)\n",
    "            else:\n",
    "                id_locations[file_id] = [root_folder + '/' + folder + '/' + grader_folder + '/' + file]\n",
    "\n",
    "print(f'Total Files - {len(id_locations)}')"
   ]
  },
  {
   "cell_type": "code",
   "execution_count": 5,
   "id": "17503d6b-12fe-45dc-be93-dd465edd0a53",
   "metadata": {},
   "outputs": [],
   "source": [
    "total_string = []\n",
    "para_number = 0\n",
    "for file_id in id_locations.keys():    # ['09516']:\n",
    "    total_words = []\n",
    "    all_words = []\n",
    "    rater_names = []\n",
    "    for file_location in id_locations[file_id]:\n",
    "        rater = file_location.split('/')[2].split()[1]\n",
    "        doc = Document(file_location)\n",
    "        prev, curr = 'normal_text', 'normal_text'\n",
    "        # is_highlighted = False   # for checking if the current file has annotations or not.\n",
    "        for paragraph in doc.paragraphs:\n",
    "            runs = paragraph.runs\n",
    "            n_runs = len(runs)\n",
    "            temp_string = \"\"\n",
    "            for i in range(n_runs):\n",
    "                if runs[i].font.highlight_color:\n",
    "                    # is_highlighted = is_highlighted or True   # if there is any run with a highlight, make is_highlighted = True\n",
    "                    if runs[i].font.highlight_color == color_2_num['YELLOW']:\n",
    "                        curr = color_2_label['YELLOW']\n",
    "                    elif runs[i].font.highlight_color == color_2_num['BRIGHT_GREEN']:\n",
    "                        curr = color_2_label['BRIGHT_GREEN']\n",
    "                    elif runs[i].font.highlight_color == color_2_num['DARK_YELLOW']:\n",
    "                        curr = color_2_label['DARK_YELLOW']\n",
    "                    elif runs[i].font.highlight_color == color_2_num['RED']:\n",
    "                        curr = color_2_label['RED']\n",
    "                    elif runs[i].font.highlight_color == color_2_num['TURQUOISE']:\n",
    "                        curr = color_2_label['TURQUOISE']\n",
    "                    elif runs[i].font.highlight_color == color_2_num['GRAY']:\n",
    "                        curr = color_2_label['GRAY']\n",
    "                else:\n",
    "                    curr = 'normal_text'\n",
    "                    \n",
    "                if curr == prev:\n",
    "                    temp_string += runs[i].text #re.sub(alpha_num, ' ', runs[i].text)\n",
    "                else:\n",
    "                    total_string += [[file_id, rater, para_number, i + \" \", prev] for i in temp_string.strip().split() if i.strip()]\n",
    "                    temp_string = runs[i].text #re.sub(alpha_num, ' ', runs[i].text)\n",
    "                    \n",
    "                if i == n_runs - 1:\n",
    "                    total_string += [[file_id, rater, para_number, i + \" \", curr] for i in temp_string.strip().split() if i.strip()]\n",
    "\n",
    "                prev = curr\n",
    "            para_number += 1"
   ]
  },
  {
   "cell_type": "code",
   "execution_count": 6,
   "id": "3b7b5d4c-5d04-40ec-9f12-52ca884e4407",
   "metadata": {},
   "outputs": [],
   "source": [
    "# doc_loc = \"input_files_v3/Annotated_Papers/Annotated AC 1/09474-FinalDraft-h2nl3.docx\"\n",
    "# doc1 = Document(doc_loc)"
   ]
  },
  {
   "cell_type": "code",
   "execution_count": 7,
   "id": "001f8730-5ffe-443d-b9ba-a9584d8efcde",
   "metadata": {},
   "outputs": [],
   "source": [
    "# total_string = []\n",
    "# prev, curr = 'normal_text', 'normal_text'\n",
    "# file_id = '09474'\n",
    "# for paragraph in doc1.paragraphs:\n",
    "#             runs = paragraph.runs\n",
    "#             n_runs = len(runs)\n",
    "#             temp_string = \"\"\n",
    "#             for i in range(n_runs):\n",
    "#                 if runs[i].font.highlight_color:\n",
    "#                     # is_highlighted = is_highlighted or True   # if there is any run with a highlight, make is_highlighted = True\n",
    "#                     if runs[i].font.highlight_color == color_2_num['YELLOW']:\n",
    "#                         curr = color_2_label['YELLOW']\n",
    "#                     elif runs[i].font.highlight_color == color_2_num['BRIGHT_GREEN']:\n",
    "#                         curr = color_2_label['BRIGHT_GREEN']\n",
    "#                     elif runs[i].font.highlight_color == color_2_num['DARK_YELLOW']:\n",
    "#                         curr = color_2_label['DARK_YELLOW']\n",
    "#                     elif runs[i].font.highlight_color == color_2_num['RED']:\n",
    "#                         curr = color_2_label['RED']\n",
    "#                     elif runs[i].font.highlight_color == color_2_num['TURQUOISE']:\n",
    "#                         curr = color_2_label['TURQUOISE']\n",
    "#                     elif runs[i].font.highlight_color == color_2_num['GRAY']:\n",
    "#                         curr = color_2_label['GRAY']\n",
    "#                 else:\n",
    "#                     curr = 'normal_text'\n",
    "                    \n",
    "#                 if curr == prev:\n",
    "#                     temp_string += runs[i].text #re.sub(alpha_num, ' ', runs[i].text)\n",
    "#                 else:\n",
    "#                     total_string += [[file_id, i + \" \", prev] for i in temp_string.strip().split() if i.strip()]\n",
    "#                     temp_string = runs[i].text #re.sub(alpha_num, ' ', runs[i].text)\n",
    "                    \n",
    "#                 if i == n_runs - 1:\n",
    "#                     total_string += [[file_id, i + \" \", curr] for i in temp_string.strip().split() if i.strip()]\n",
    "\n",
    "#                 prev = curr\n",
    "#         # total_words.append(len(total_string))\n",
    "#         # all_words.append(total_string)\n",
    "#         # rater_names.append(rater)"
   ]
  },
  {
   "cell_type": "code",
   "execution_count": 8,
   "id": "2702298a-0bfb-4bfa-815f-1db5a0a74616",
   "metadata": {},
   "outputs": [],
   "source": [
    "doc_df = pd.DataFrame(total_string, columns=['file_id', 'rater', 'para_number', 'text', 'label'])"
   ]
  },
  {
   "cell_type": "code",
   "execution_count": 9,
   "id": "1e5f01af-5c58-402f-a845-bfd0aa6c450f",
   "metadata": {},
   "outputs": [],
   "source": [
    "# doc_df.groupby(['file_id', 'label']).sum()\n",
    "# df = pd.DataFrame({'a': [1, 1, -1, 1, -1, -1]})\n",
    "# print(df)\n",
    "# print()\n",
    "# print(df['a'].ne(df['a'].shift()).cumsum())"
   ]
  },
  {
   "cell_type": "code",
   "execution_count": 10,
   "id": "ea36e37d-439a-472a-a700-c81c0381db09",
   "metadata": {},
   "outputs": [],
   "source": [
    "def create_group_ids(labels):\n",
    "    group_ids = [0]  # Start with the first group id\n",
    "    for i in range(1, len(labels)):\n",
    "        if labels[i] == labels[i - 1]:\n",
    "            group_ids.append(group_ids[-1])  # Same group as previous\n",
    "        else:\n",
    "            group_ids.append(group_ids[-1] + 1)  # New group id\n",
    "    return group_ids"
   ]
  },
  {
   "cell_type": "code",
   "execution_count": 11,
   "id": "bb982f53-7d73-421b-aba3-9acd3cefc8f9",
   "metadata": {},
   "outputs": [],
   "source": [
    "doc_df['group_id'] = create_group_ids(doc_df['label'])\n",
    "\n",
    "aggregated_df = doc_df.groupby(['file_id', 'rater', 'para_number', 'group_id', 'label'], as_index=False)['text'].sum()\n",
    "\n",
    "aggregated_df = aggregated_df.drop(columns=['para_number', 'group_id'])\n",
    "\n",
    "temp = aggregated_df.assign(text=aggregated_df['text'].str.split('.')).explode('text', ignore_index=True) #.replace('', np.nan)\n",
    "temp['text'].replace(' ', np.nan, inplace=True)\n",
    "temp.dropna(subset=['text'], inplace=True)\n",
    "\n",
    "temp.to_excel(\"output.xlsx\", index=False)"
   ]
  },
  {
   "cell_type": "code",
   "execution_count": 26,
   "id": "629b2a14-35fb-47c9-a067-a88c13aeb66d",
   "metadata": {},
   "outputs": [
    {
     "data": {
      "text/html": [
       "<div>\n",
       "<style scoped>\n",
       "    .dataframe tbody tr th:only-of-type {\n",
       "        vertical-align: middle;\n",
       "    }\n",
       "\n",
       "    .dataframe tbody tr th {\n",
       "        vertical-align: top;\n",
       "    }\n",
       "\n",
       "    .dataframe thead th {\n",
       "        text-align: right;\n",
       "    }\n",
       "</style>\n",
       "<table border=\"1\" class=\"dataframe\">\n",
       "  <thead>\n",
       "    <tr style=\"text-align: right;\">\n",
       "      <th></th>\n",
       "      <th>file_id</th>\n",
       "      <th>rater</th>\n",
       "      <th>label</th>\n",
       "      <th>text</th>\n",
       "    </tr>\n",
       "  </thead>\n",
       "  <tbody>\n",
       "    <tr>\n",
       "      <th>0</th>\n",
       "      <td>9474</td>\n",
       "      <td>AC</td>\n",
       "      <td>normal_text</td>\n",
       "      <td>Full Name</td>\n",
       "    </tr>\n",
       "    <tr>\n",
       "      <th>1</th>\n",
       "      <td>9474</td>\n",
       "      <td>AC</td>\n",
       "      <td>normal_text</td>\n",
       "      <td>Instructor</td>\n",
       "    </tr>\n",
       "    <tr>\n",
       "      <th>2</th>\n",
       "      <td>9474</td>\n",
       "      <td>AC</td>\n",
       "      <td>normal_text</td>\n",
       "      <td>ENC1101</td>\n",
       "    </tr>\n",
       "    <tr>\n",
       "      <th>3</th>\n",
       "      <td>9474</td>\n",
       "      <td>AC</td>\n",
       "      <td>normal_text</td>\n",
       "      <td>Date</td>\n",
       "    </tr>\n",
       "    <tr>\n",
       "      <th>4</th>\n",
       "      <td>9474</td>\n",
       "      <td>AC</td>\n",
       "      <td>normal_text</td>\n",
       "      <td>Overdosing on Stereotypes</td>\n",
       "    </tr>\n",
       "  </tbody>\n",
       "</table>\n",
       "</div>"
      ],
      "text/plain": [
       "   file_id rater        label                        text\n",
       "0     9474    AC  normal_text                  Full Name \n",
       "1     9474    AC  normal_text                 Instructor \n",
       "2     9474    AC  normal_text                    ENC1101 \n",
       "3     9474    AC  normal_text                       Date \n",
       "4     9474    AC  normal_text  Overdosing on Stereotypes "
      ]
     },
     "execution_count": 26,
     "metadata": {},
     "output_type": "execute_result"
    }
   ],
   "source": [
    "temp = pd.read_excel(\"output.xlsx\")\n",
    "temp.head()"
   ]
  },
  {
   "cell_type": "code",
   "execution_count": 19,
   "id": "f40cdd88-1ec8-4b11-9cd2-73a6ffd8e0b0",
   "metadata": {},
   "outputs": [
    {
     "data": {
      "text/plain": [
       "1309"
      ]
     },
     "execution_count": 19,
     "metadata": {},
     "output_type": "execute_result"
    }
   ],
   "source": [
    "temp['text'].isna().sum()"
   ]
  },
  {
   "cell_type": "code",
   "execution_count": 20,
   "id": "4b1b0905-dd12-48d5-bd87-c897e7bfbb78",
   "metadata": {},
   "outputs": [],
   "source": [
    "temp = temp[temp['text'].notna()]"
   ]
  },
  {
   "cell_type": "code",
   "execution_count": 21,
   "id": "5a7be34a-fcea-46cd-bae9-3203714f719e",
   "metadata": {},
   "outputs": [
    {
     "data": {
      "text/plain": [
       "(126, 4)"
      ]
     },
     "execution_count": 21,
     "metadata": {},
     "output_type": "execute_result"
    }
   ],
   "source": [
    "temp.loc[(temp['file_id'] == 9487) & (temp['rater'] == 'AC')].shape"
   ]
  },
  {
   "cell_type": "code",
   "execution_count": 29,
   "id": "7eb775e5-462b-4a1d-ae0d-69b529e1008e",
   "metadata": {},
   "outputs": [
    {
     "data": {
      "text/plain": [
       "['input_files_v3/Annotated_Papers/Annotated AC 7/09949-FinalDraft-7n797.docx',\n",
       " 'input_files_v3/Annotated_Papers/Annotated AN 7/09949-FinalDraft-7n797.docx',\n",
       " 'input_files_v3/Annotated_Papers/Annotated MB 7/09949-FinalDraft-7n797.docx']"
      ]
     },
     "execution_count": 29,
     "metadata": {},
     "output_type": "execute_result"
    }
   ],
   "source": [
    "id_locations['09949']"
   ]
  },
  {
   "cell_type": "code",
   "execution_count": 32,
   "id": "91e998ae-72ce-4627-8f8b-b0a56849886d",
   "metadata": {},
   "outputs": [
    {
     "name": "stdout",
     "output_type": "stream",
     "text": [
      "9949\n",
      "  AC -  (194, 4)\n",
      "  AN -  (173, 4)\n",
      "  MB -  (188, 4)\n"
     ]
    }
   ],
   "source": [
    "for file_id in ['09949']: #id_locations.keys():\n",
    "    int_file_id = int(file_id)\n",
    "    print(int_file_id)\n",
    "    for file_location in id_locations[file_id]:\n",
    "        rater = file_location.split('/')[2].split()[1]\n",
    "        print(f\"  {rater} - \", temp.loc[(temp['file_id'] == int_file_id) & (temp['rater'] == rater)].shape)"
   ]
  },
  {
   "cell_type": "code",
   "execution_count": 30,
   "id": "5782ee76-f6f6-4a5b-b374-ffbbea8c6413",
   "metadata": {},
   "outputs": [],
   "source": [
    "sample_id = 9949\n",
    "ac = temp.loc[(temp['file_id'] == sample_id) & (temp['rater'] == 'AC')]\n",
    "an = temp.loc[(temp['file_id'] == sample_id) & (temp['rater'] == 'AN')]\n",
    "# jd = temp.loc[(temp['file_id'] == sample_id) & (temp['rater'] == 'JD')]\n",
    "mb = temp.loc[(temp['file_id'] == sample_id) & (temp['rater'] == 'MB')]"
   ]
  },
  {
   "cell_type": "code",
   "execution_count": 48,
   "id": "94fc1e6f-595f-47fc-9611-10c59b47ef2a",
   "metadata": {},
   "outputs": [
    {
     "name": "stdout",
     "output_type": "stream",
     "text": [
      "29\n",
      "was \"definitely and irreconcilably opposed to women's suffrage (Cobbs)\n",
      "was \"definitely and irreconcilably opposed to women's suffrage (Cobbs)\n",
      "\n",
      "30\n",
      "\" This wasn't an \n",
      "\" \n",
      "\n",
      "31\n",
      "uncommon belief during the early 20th century, as women were basically denied any \n",
      "This wasn't an \n",
      "\n"
     ]
    }
   ],
   "source": [
    "i = 0\n",
    "while mb.iloc[i].text.strip() == ac.iloc[i].text.strip():\n",
    "    i += 1\n",
    "\n",
    "for j in [-1, 0, 1]:\n",
    "    print(i+j)\n",
    "    print(mb.iloc[i+j].text)\n",
    "    print(ac.iloc[i+j].text)\n",
    "    print()"
   ]
  },
  {
   "cell_type": "code",
   "execution_count": 42,
   "id": "b44d228f-99f2-4f28-87f7-4c3553f3cf51",
   "metadata": {},
   "outputs": [
    {
     "data": {
      "text/plain": [
       "10"
      ]
     },
     "execution_count": 42,
     "metadata": {},
     "output_type": "execute_result"
    }
   ],
   "source": [
    "i-4"
   ]
  }
 ],
 "metadata": {
  "kernelspec": {
   "display_name": "nlp_ra",
   "language": "python",
   "name": "nlp_ra"
  },
  "language_info": {
   "codemirror_mode": {
    "name": "ipython",
    "version": 3
   },
   "file_extension": ".py",
   "mimetype": "text/x-python",
   "name": "python",
   "nbconvert_exporter": "python",
   "pygments_lexer": "ipython3",
   "version": "3.10.14"
  }
 },
 "nbformat": 4,
 "nbformat_minor": 5
}
