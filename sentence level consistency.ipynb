{
 "cells": [
  {
   "cell_type": "code",
   "execution_count": 1,
   "id": "6df10215-d7b1-401c-a890-ce88968c7d89",
   "metadata": {},
   "outputs": [],
   "source": [
    "from openpyxl import Workbook, load_workbook\n",
    "import docx\n",
    "import re\n",
    "from docx import Document\n",
    "from string import punctuation\n",
    "import pandas as pd\n",
    "import numpy as np\n",
    "from sklearn.metrics import cohen_kappa_score\n",
    "from nltk.tokenize import sent_tokenize, word_tokenize\n",
    "from statsmodels.stats import inter_rater as irr\n",
    "import matplotlib.pyplot as plt \n",
    "\n",
    "import os\n",
    "import re\n",
    "import copy\n",
    "import sys\n",
    "\n",
    "import warnings\n",
    "warnings.filterwarnings('ignore')"
   ]
  },
  {
   "cell_type": "code",
   "execution_count": 2,
   "id": "d4e3cb8c-0ccd-47f5-93bf-f0d95cbad192",
   "metadata": {},
   "outputs": [],
   "source": [
    "root_folder = 'input_files_v3\\excel annotations\\samle set 05-01-2025 AS JM'"
   ]
  },
  {
   "cell_type": "code",
   "execution_count": 3,
   "id": "d8ebb54c-f1fd-48a6-8691-17445c392fd0",
   "metadata": {},
   "outputs": [],
   "source": [
    "rater_list = []\n",
    "rater_filepaths = {}\n",
    "file_filepaths = {}\n",
    "rater_folders = os.listdir(root_folder)\n",
    "\n",
    "for rater_folder in rater_folders:\n",
    "    rater = rater_folder.split()[1]\n",
    "    rater_list.append(rater)\n",
    "    # annotated_folder = os.listdir(os.path.join(root_folder, rater_folder))[0]\n",
    "    annotated_folder_path = os.path.join(root_folder, rater_folder)\n",
    "    annotated_files = os.listdir(annotated_folder_path)\n",
    "    for annotated_file in annotated_files:\n",
    "        annotated_file_path = os.path.join(annotated_folder_path, annotated_file)\n",
    "        if rater not in rater_filepaths:\n",
    "            rater_filepaths[rater] = []\n",
    "        rater_filepaths[rater].append(annotated_file_path)\n",
    "\n",
    "        if annotated_file not in file_filepaths:\n",
    "            file_filepaths[annotated_file] = []\n",
    "        file_filepaths[annotated_file].append(annotated_file_path)"
   ]
  },
  {
   "cell_type": "code",
   "execution_count": 4,
   "id": "659edf07-982e-47df-b6dc-ffc4d5d46965",
   "metadata": {},
   "outputs": [
    {
     "data": {
      "text/plain": [
       "['AS', 'JM']"
      ]
     },
     "execution_count": 4,
     "metadata": {},
     "output_type": "execute_result"
    }
   ],
   "source": [
    "rater_list"
   ]
  },
  {
   "cell_type": "code",
   "execution_count": 5,
   "id": "d06a094a-6fa4-48bb-8eae-42b45a61af75",
   "metadata": {},
   "outputs": [
    {
     "name": "stdout",
     "output_type": "stream",
     "text": [
      "AS - 130 files.\n",
      "JM - 130 files.\n"
     ]
    }
   ],
   "source": [
    "for rater, filepaths in rater_filepaths.items():\n",
    "    print(f'{rater} - {len(filepaths)} files.')"
   ]
  },
  {
   "cell_type": "code",
   "execution_count": 6,
   "id": "6b952ea4-2d1b-4101-8a92-c12ce5c9e5b4",
   "metadata": {},
   "outputs": [],
   "source": [
    "# for file, filepaths in file_filepaths.items():\n",
    "#     print(f'{file} - {len(filepaths)} annotations.')"
   ]
  },
  {
   "cell_type": "code",
   "execution_count": 7,
   "id": "ac021e19-38bb-4758-b98a-99ee7a55e6c8",
   "metadata": {},
   "outputs": [],
   "source": [
    "def extract_ordered_annotated_text(doc_path):\n",
    "    doc = Document(doc_path)\n",
    "    text = \"\\n\".join([para.text for para in doc.paragraphs])\n",
    "\n",
    "    extracted_texts = []\n",
    "    annotations = []\n",
    "\n",
    "    # Create a regex pattern to match all annotation types\n",
    "    combined_pattern = \"|\".join(\n",
    "        f\"({re.escape(start)}(.*?){re.escape(end)})\" for start, end in annotation_markers.values()\n",
    "    )\n",
    "\n",
    "    matches = re.finditer(combined_pattern, text, re.DOTALL)\n",
    "\n",
    "    for match in matches:\n",
    "        matched_text = match.group(0)  # Full matched annotation\n",
    "        for label, (start_tag, end_tag) in annotation_markers.items():\n",
    "            if matched_text.startswith(start_tag) and matched_text.endswith(end_tag):\n",
    "                content = matched_text[len(start_tag):-len(end_tag)].strip()  # Extract text inside markers\n",
    "                extracted_texts.append(content)\n",
    "                annotations.append(label)\n",
    "                break  # Stop checking once a match is found\n",
    "\n",
    "    final_text, final_annotation = [], []\n",
    "    \n",
    "    for text_segment, annotation in zip(extracted_texts, annotations):\n",
    "        for text in sent_tokenize(text_segment):\n",
    "            final_text.append(text)\n",
    "            final_annotation.append(annotation)\n",
    "            \n",
    "    return final_text, final_annotation"
   ]
  },
  {
   "cell_type": "code",
   "execution_count": 8,
   "id": "59604b5e-9f48-4f96-ba4a-40f8625d8c70",
   "metadata": {},
   "outputs": [],
   "source": [
    "# for file, filepaths in file_filepaths.items():\n",
    "#     print(file)\n",
    "#     for filepath in filepaths:\n",
    "#         final_text, final_annotation = extract_ordered_annotated_text(filepath)\n",
    "#         print(filepath, len(final_text), len(final_annotation))\n",
    "#     print()"
   ]
  },
  {
   "cell_type": "code",
   "execution_count": 9,
   "id": "7fb64f4f-ac0a-4454-8b51-f9dcaf5d9d87",
   "metadata": {},
   "outputs": [],
   "source": [
    "# for rater, filepaths in rater_filepaths.items():\n",
    "#     print(rater)\n",
    "#     for filepath in filepaths:\n",
    "#         final_text, final_annotation = extract_ordered_annotated_text(filepath)\n",
    "#         print(filepath, len(final_text), len(final_annotation))\n",
    "#     print()"
   ]
  },
  {
   "cell_type": "code",
   "execution_count": 10,
   "id": "4be007cd-7747-4c61-82b4-fa5c9840125f",
   "metadata": {},
   "outputs": [],
   "source": [
    "all_labels = ['irrelevent', 'thesis', 'evidence', 'reasoning', 'transition', 'maintaining progressing claim', 'summary']\n",
    "all_raters = rater_list #['AS', 'CA', 'JM', 'OM'] # , 'SJ'"
   ]
  },
  {
   "cell_type": "code",
   "execution_count": 11,
   "id": "adf17b8a-afac-409e-a6a3-35aaf11f42a4",
   "metadata": {},
   "outputs": [
    {
     "name": "stdout",
     "output_type": "stream",
     "text": [
      "11167-FinalDraft-ndvji.xlsx - 0.5295777960719745\n",
      "11168-FinalDraft-9u47i.xlsx - 0.7132011809363138\n",
      "11169-FinalDraft-qfxfh.xlsx - 0.42290145985401456\n",
      "11170-FinalDraft-sp64k.xlsx - 0.18040979510244884\n",
      "11171-FinalDraft-lck95.xlsx - 0.47829769214482304\n",
      "11172-FinalDraft-tysm7.xlsx - 0.5605815831987075\n",
      "11173-FinalDraft-rt4lv.xlsx - 0.5723951285520976\n",
      "11174-FinalDraft-pzez5.xlsx - 0.6005509641873279\n",
      "11175-FinalDraft-htopu.xlsx - 0.6459016393442623\n",
      "11178-FinalDraft-rvq27.xlsx - 0.7328155339805824\n",
      "11180-FinalDraft-oa9o1.xlsx - 0.6828729281767956\n",
      "11182-FinalDraft-5tv17.xlsx - 0.9237588652482271\n",
      "11185-FinalDraft-16xd9.xlsx - 0.9022979270448337\n",
      "11186-FinalDraft-w4mqb.xlsx - 0.5987828732884157\n",
      "11187-FinalDraft-25gpc.xlsx - 0.6157049375371803\n",
      "11190-FinalDraft-3cy44.xlsx - 0.45659259259259266\n",
      "11191-FinalDraft-ckccd.xlsx - 0.6518634233430038\n",
      "11192-FinalDraft-64wqv.xlsx - 0.4650751547303271\n",
      "11193-FinalDraft-4lij5.xlsx - 0.6206594689232565\n",
      "11196-FinalDraft-nx1ai.xlsx - 0.9139389481426996\n",
      "11197-FinalDraft-ul64u.xlsx - 0.7130781306605483\n",
      "11198-FinalDraft-84iaj.xlsx - 0.44675422138836757\n",
      "11199-FinalDraft-y4zmh.xlsx - 0.6326752893124575\n",
      "11200-FinalDraft-qodl1.xlsx - 0.43430915004949794\n",
      "11201-FinalDraft-u6rtc.xlsx - 0.5266272189349112\n",
      "11202-FinalDraft-xjbgh.xlsx - 0.7384898710865563\n",
      "11203-FinalDraft-3yt8e.xlsx - 0.655767301905717\n",
      "11206-FinalDraft-xygz9.xlsx - 0.30864197530864196\n",
      "11225-FinalDraft-h7wde.xlsx - 0.37345902828136335\n",
      "11228-FinalDraft-22wgv.xlsx - 0.5291130056230727\n",
      "11233-FinalDraft-ss9ge.xlsx - 0.6018199365779677\n",
      "11234-FinalDraft-be8qk.xlsx - 0.8074491879801614\n",
      "11235-FinalDraft-nxj42.xlsx - 0.38768223742933644\n",
      "11236-FinalDraft-74ylo.xlsx - 0.5627891606080634\n",
      "11237-FinalDraft-iyr3x.xlsx - 0.6780151619572709\n",
      "11240-FinalDraft-rpk5s.xlsx - 0.6081632653061224\n",
      "11244-FinalDraft-z9jik.xlsx - 0.765838428515676\n",
      "11245-FinalDraft-pjf46.xlsx - 0.41217634709587114\n",
      "11246-FinalDraft-pj8dr.xlsx - 0.6061884669479607\n",
      "11247-FinalDraft-pkbv9.xlsx - 0.6479588382641662\n",
      "11248-FinalDraft-hmkj9.xlsx - 0.6509406657018812\n",
      "11253-FinalDraft-eor53.xlsx - 0.6927132366785916\n",
      "11255-FinalDraft-3zh59.xlsx - 0.4768824306472921\n",
      "11256-FinalDraft-tes65.xlsx - 0.7526228602981778\n",
      "11257-FinalDraft-ukvqu.xlsx - 0.7138622156344654\n",
      "11258-FinalDraft-id3in.xlsx - 0.8373914884607241\n",
      "11259-FinalDraft-amsq2.xlsx - 0.6589147286821705\n",
      "11260-FinalDraft-mxzzr.xlsx - 0.47996560619088574\n",
      "11262-FinalDraft-4hfpf.xlsx - 0.6807434741014077\n",
      "11263-FinalDraft-8g2a5.xlsx - 0.6050096339113681\n",
      "11267-FinalDraft-zgpqb.xlsx - 0.26631124650926646\n",
      "11268-FinalDraft-e394d.xlsx - 0.4224943602964873\n",
      "11269-FinalDraft-x4j5x.xlsx - 0.5845046280425095\n",
      "11273-FinalDraft-cp1wp.xlsx - 0.5902105862265224\n",
      "11277-FinalDraft-dggwi.xlsx - 0.5354989953114533\n",
      "11279-FinalDraft-vcwwr.xlsx - 0.48387096774193555\n",
      "11281-FinalDraft-t611k.xlsx - 0.46006922189462895\n",
      "11282-FinalDraft-xj5gn.xlsx - 0.7181581878945413\n",
      "11285-FinalDraft-6wra8.xlsx - 0.5045672031317966\n",
      "11286-FinalDraft-oqdj5.xlsx - 0.6499857020303115\n",
      "11287-FinalDraft-4nqfu.xlsx - 0.5458006186057578\n",
      "11289-FinalDraft-dhhdz.xlsx - 0.5398230088495574\n",
      "11290-FinalDraft-8v7o7.xlsx - 0.6181867486215313\n",
      "11291-FinalDraft-qimbr.xlsx - 0.7193739881273611\n",
      "11292-FinalDraft-tixhl.xlsx - 0.45357500277994006\n",
      "11293-FinalDraft-c1nj3.xlsx - 0.6519136871948339\n",
      "11296-FinalDraft-i9zy8.xlsx - 0.5540664456514073\n",
      "11298-FinalDraft-7wd4w.xlsx - 0.526161238654565\n",
      "11299-FinalDraft-3y5xt.xlsx - 0.471101313140995\n",
      "11303-FinalDraft-2f3xl.xlsx - 0.5415952788882543\n",
      "11308-FinalDraft-68d59.xlsx - 0.630057803468208\n",
      "11313-FinalDraft-hxw8j.xlsx - 0.31766753698868583\n",
      "11314-FinalDraft-mfptb.xlsx - 0.8486978090119884\n",
      "11315-FinalDraft-dhr8n.xlsx - 0.5883383782061494\n",
      "11317-FinalDraft-2emed.xlsx - 0.5883905013192612\n",
      "11319-FinalDraft-y1jmu.xlsx - 0.7644177788661688\n",
      "11320-FinalDraft-cne4z.xlsx - 0.493006993006993\n",
      "11322-FinalDraft-hixtf.xlsx - 0.5633144824194738\n",
      "11323-FinalDraft-z9acw.xlsx - 0.7980450340373537\n",
      "11325-FinalDraft-dh7hs.xlsx - 0.23839999999999997\n",
      "11327-FinalDraft-1cxm6.xlsx - 0.26664854580048925\n",
      "11332-FinalDraft-3m5jq.xlsx - 0.4985837862665542\n",
      "11333-FinalDraft-5bc32.xlsx - 0.6689324270291882\n",
      "11334-FinalDraft-yoh66.xlsx - 0.19347254874844422\n",
      "11369-FinalDraft-z9rrn.xlsx - 0.5764867652114128\n",
      "11376-FinalDraft-gjuc6.xlsx - 0.5434218653489808\n",
      "11377-FinalDraft-3q3jf.xlsx - 0.4142135731001356\n",
      "11379-FinalDraft-l8mt6.xlsx - 1.0\n",
      "11380-FinalDraft-pts2d.xlsx - 0.5384967919340055\n",
      "11381-FinalDraft-h3u5a.xlsx - 0.7232289950576606\n",
      "11382-FinalDraft-w4vgl.xlsx - 0.8164372131831455\n",
      "11383-FinalDraft-xyob8.xlsx - 0.5824546604808097\n",
      "11385-FinalDraft-hfude.xlsx - 0.574295269947444\n",
      "11386-FinalDraft-9boat.xlsx - 0.7529501332318235\n",
      "11390-FinalDraft-qfcwq.xlsx - 0.6638186887310009\n",
      "11392-FinalDraft-9c3ed.xlsx - 0.6687086498407253\n",
      "11395-FinalDraft-kwiku.xlsx - 0.7762334954829743\n",
      "11396-FinalDraft-flhei.xlsx - 0.6129032258064516\n",
      "11398-FinalDraft-lb6pu.xlsx - 0.6742173581063885\n",
      "11399-FinalDraft-oei9n.xlsx - 0.6045557033011505\n",
      "11400-FinalDraft-z9tqk.xlsx - 0.6287652645861602\n",
      "11401-FinalDraft-zuimg.xlsx - 0.44834346206626147\n",
      "11404-FinalDraft-fm5wc.xlsx - 0.7626654495664081\n",
      "11405-FinalDraft-akeju.xlsx - 0.49076385421867197\n",
      "11406-FinalDraft-d4itd.xlsx - 0.4654377880184332\n",
      "11415-FinalDraft-k9pv5.xlsx - 0.8223512336719884\n",
      "11425-FinalDraft-1nocn.xlsx - 0.6377508707911761\n",
      "11426-FinalDraft-7co26.xlsx - 0.614920874152223\n",
      "11427-FinalDraft-xgatp.xlsx - 0.593094179675385\n",
      "11428-FinalDraft-ztdds.xlsx - 0.6068211068211069\n",
      "11429-FinalDraft-xae43.xlsx - 0.23420728488474396\n",
      "11430-FinalDraft-1qa5u.xlsx - 0.5889872173058014\n",
      "11431-FinalDraft-ul9bt.xlsx - 0.5633004408985933\n",
      "11433-FinalDraft-bvne3.xlsx - 0.5366169799092676\n",
      "11434-FinalDraft-6e6nc.xlsx - 0.5047492820852663\n",
      "11435-FinalDraft-dfdu2.xlsx - 0.3603824783563769\n",
      "11436-FinalDraft-po4i6.xlsx - 0.37513947779513507\n",
      "11437-FinalDraft-ce7jn.xlsx - 0.5593506219692178\n",
      "11438-FinalDraft-dgs8s.xlsx - 0.44659353348729786\n",
      "11439-FinalDraft-g8tij.xlsx - 0.6993006993006994\n",
      "11440-FinalDraft-so9jm.xlsx - 0.5027365129007036\n",
      "11441-FinalDraft-k9v9h.xlsx - 0.2700140449438202\n",
      "11442-FinalDraft-r47on.xlsx - 0.43511450381679384\n",
      "11446-FinalDraft-mdz5f.xlsx - 0.16373016645575786\n",
      "11447-FinalDraft-bpoim.xlsx - 0.6326580724370777\n",
      "11450-FinalDraft-j4n5j.xlsx - 0.4746743849493488\n",
      "11452-FinalDraft-we4fg.xlsx - 0.6491745283018867\n",
      "11453-FinalDraft-a2z7i.xlsx - -0.17757009345794406\n",
      "11456-FinalDraft-eufev.xlsx - 0.07996115247652966\n",
      "11485-FinalDraft-y6wx5.xlsx - -0.14898885678910442\n",
      "\n",
      "Average Overall Consistency - 0.5607148724235568\n",
      "\n",
      "Rater Consistency:\n",
      "  AS - 0.5607148724235568\n",
      "  JM - 0.5607148724235568\n",
      "\n",
      "Label Consistency:\n",
      "  irrelevent - 0.587488553849148\n",
      "  thesis - 0.7313259613495174\n",
      "  evidence - 0.9130498252402856\n",
      "  reasoning - 0.29927694953665357\n",
      "  transition - 0.4338351917127555\n",
      "  maintaining progressing claim - 0.28265477175425224\n",
      "  summary - 0.5307354092462256\n"
     ]
    }
   ],
   "source": [
    "rater_consistency = {}\n",
    "for rater in all_raters:\n",
    "    rater_consistency[rater] = []\n",
    "\n",
    "label_consistency = {}\n",
    "for labels in all_labels:\n",
    "    label_consistency[labels] = []\n",
    "\n",
    "agreement_per_file = []\n",
    "\n",
    "for file, filepaths in file_filepaths.items():\n",
    "    df_annotations = pd.DataFrame()\n",
    "    \n",
    "    for filepath in filepaths:\n",
    "        rater = filepath.split('\\\\')[3].split()[1]\n",
    "        rater_annotation = pd.read_excel(filepath)\n",
    "        rater_annotation.dropna(inplace=True)\n",
    "        rater_annotation['label'][rater_annotation['label'].isna()] = 'irrelevent'\n",
    "        df_annotations[rater] = rater_annotation['label']\n",
    "\n",
    "    df_annotations = df_annotations.fillna('irrelevent')\n",
    "    \n",
    "    for i in range(len(all_raters)-1):\n",
    "        rater1 = all_raters[i]\n",
    "        for j in range(i+1, len(all_raters)):\n",
    "            rater2 = all_raters[j]\n",
    "            agg = irr.aggregate_raters(df_annotations[[rater1, rater2]])\n",
    "            fleiss_kappa_score_pair = irr.fleiss_kappa(agg[0], method='fleiss')\n",
    "            rater_consistency[rater1].append(fleiss_kappa_score_pair)\n",
    "            rater_consistency[rater2].append(fleiss_kappa_score_pair)\n",
    "    \n",
    "    agg = irr.aggregate_raters(df_annotations[all_raters])\n",
    "    fleiss_kappa_score = irr.fleiss_kappa(agg[0], method='fleiss')\n",
    "    agreement_per_file.append(fleiss_kappa_score)\n",
    "    print(f'{file} - {fleiss_kappa_score}')\n",
    "\n",
    "    for label in all_labels:\n",
    "        df_label = df_annotations[all_raters].copy(deep=True)\n",
    "        for col in df_label.columns:\n",
    "            df_label[col] = df_label[col] == label\n",
    "        agg = irr.aggregate_raters(df_label)\n",
    "        fleiss_kappa_score_label = irr.fleiss_kappa(agg[0], method='fleiss')\n",
    "        if np.isnan(fleiss_kappa_score_label):\n",
    "            fleiss_kappa_score_label = 1\n",
    "        label_consistency[label].append(fleiss_kappa_score_label)\n",
    "\n",
    "print()\n",
    "print(f'Average Overall Consistency - {np.mean(agreement_per_file)}')\n",
    "print()\n",
    "print('Rater Consistency:')\n",
    "for key, value in rater_consistency.items():\n",
    "    print(f'  {key} - {np.mean(value)}')\n",
    "print()\n",
    "print('Label Consistency:')\n",
    "for key, value in label_consistency.items():\n",
    "    print(f'  {key} - {np.mean(value)}')"
   ]
  },
  {
   "cell_type": "code",
   "execution_count": 12,
   "id": "3abc6fbd-b1a8-45a5-b14f-6390ce01ee9c",
   "metadata": {},
   "outputs": [],
   "source": [
    "for file in file_filepaths.keys():\n",
    "    if len(file_filepaths[file]) < 2:\n",
    "        print(file)"
   ]
  },
  {
   "cell_type": "code",
   "execution_count": 13,
   "id": "37934ea5-e5a8-459a-a8da-7270f53cfdd0",
   "metadata": {},
   "outputs": [
    {
     "data": {
      "text/plain": [
       "'input_files_v3\\\\excel annotations\\\\samle set 05-01-2025 AS JM\\\\Rater JM\\\\11186-FinalDraft-w4mqb.xlsx'"
      ]
     },
     "execution_count": 13,
     "metadata": {},
     "output_type": "execute_result"
    }
   ],
   "source": [
    "rater_filepaths['JM'][13]"
   ]
  },
  {
   "cell_type": "code",
   "execution_count": 14,
   "id": "0538e2cd-778a-4d0d-a2ae-4109742a8464",
   "metadata": {},
   "outputs": [],
   "source": [
    "temp = pd.read_excel(rater_filepaths['JM'][13])"
   ]
  },
  {
   "cell_type": "code",
   "execution_count": 15,
   "id": "dc8f6f36-e2fe-4505-94bd-589ba09f3fc5",
   "metadata": {},
   "outputs": [],
   "source": [
    "temp['label'][temp['label'].isna()] = 'aaaaaa'"
   ]
  },
  {
   "cell_type": "code",
   "execution_count": 16,
   "id": "89202ee3-9519-4af3-8fc4-495aee66c21a",
   "metadata": {},
   "outputs": [
    {
     "data": {
      "text/html": [
       "<div>\n",
       "<style scoped>\n",
       "    .dataframe tbody tr th:only-of-type {\n",
       "        vertical-align: middle;\n",
       "    }\n",
       "\n",
       "    .dataframe tbody tr th {\n",
       "        vertical-align: top;\n",
       "    }\n",
       "\n",
       "    .dataframe thead th {\n",
       "        text-align: right;\n",
       "    }\n",
       "</style>\n",
       "<table border=\"1\" class=\"dataframe\">\n",
       "  <thead>\n",
       "    <tr style=\"text-align: right;\">\n",
       "      <th></th>\n",
       "      <th>text</th>\n",
       "      <th>label</th>\n",
       "    </tr>\n",
       "  </thead>\n",
       "  <tbody>\n",
       "  </tbody>\n",
       "</table>\n",
       "</div>"
      ],
      "text/plain": [
       "Empty DataFrame\n",
       "Columns: [text, label]\n",
       "Index: []"
      ]
     },
     "execution_count": 16,
     "metadata": {},
     "output_type": "execute_result"
    }
   ],
   "source": [
    "temp[temp['label'].isna()]"
   ]
  },
  {
   "cell_type": "code",
   "execution_count": 17,
   "id": "be16322d-3d17-4404-b62a-d7cbedbafc4e",
   "metadata": {},
   "outputs": [],
   "source": [
    "# df_label"
   ]
  },
  {
   "cell_type": "code",
   "execution_count": 18,
   "id": "8f05b513-2c54-4383-8315-51268ed39b73",
   "metadata": {},
   "outputs": [],
   "source": [
    "# label_consistency"
   ]
  },
  {
   "cell_type": "code",
   "execution_count": 19,
   "id": "11886192-4288-44aa-913a-a3b2259d4ccd",
   "metadata": {},
   "outputs": [],
   "source": [
    "# limit = min([len(l) for l in text_list])\n",
    "\n",
    "# for i in range(63):\n",
    "#     for l in text_list[1:3]:\n",
    "#         print(l[i])\n",
    "#         # print('--'*30)\n",
    "#     print('+-'*30)"
   ]
  },
  {
   "cell_type": "code",
   "execution_count": 20,
   "id": "3035ce60-5d83-4de8-bbc2-18ae34717b84",
   "metadata": {},
   "outputs": [],
   "source": [
    "# pd.DataFrame(annotation_list).T[:][0].unique()"
   ]
  },
  {
   "cell_type": "code",
   "execution_count": 21,
   "id": "f111719b-4dfd-4993-a3e3-b410b1a6fe29",
   "metadata": {},
   "outputs": [],
   "source": [
    "# cohen_kappa_score(annotation_list[2], annotation_list[3])"
   ]
  },
  {
   "cell_type": "code",
   "execution_count": 22,
   "id": "483d0b06-a709-4c6c-a50b-f0b14ce220f0",
   "metadata": {},
   "outputs": [],
   "source": [
    "# for text, annotation in zip(final_text, final_annotation):\n",
    "#     print(f'[{annotation}] | {text}')\n",
    "#     print()"
   ]
  },
  {
   "cell_type": "code",
   "execution_count": 23,
   "id": "894f2004-2988-42e4-b906-185e63080c31",
   "metadata": {},
   "outputs": [],
   "source": [
    "# def get_char_annotation(doc):\n",
    "#     char_annotations = []\n",
    "#     for paragraph in doc.paragraphs:\n",
    "#         for run in paragraph.runs:\n",
    "#             # if run.text.strip():\n",
    "#             char_annotations += [int(run.font.highlight_color) if run.font.highlight_color else 99 for _ in range(len(run.text))]\n",
    "\n",
    "#     return char_annotations"
   ]
  },
  {
   "cell_type": "code",
   "execution_count": 24,
   "id": "c2d8f027-0d34-4ad3-933e-d468a9c7c9fe",
   "metadata": {},
   "outputs": [],
   "source": [
    "# def get_label_annotation(doc, label):\n",
    "#     annotations = get_char_annotation(doc)\n",
    "#     label_annotation = [annotation == label for annotation in annotations]\n",
    "#     return label_annotation"
   ]
  },
  {
   "cell_type": "code",
   "execution_count": 25,
   "id": "792bca98-75c1-4c14-bc43-29ff0004b296",
   "metadata": {},
   "outputs": [],
   "source": [
    "# files_paths = {}\n",
    "\n",
    "# for folder in annotation_folders:\n",
    "#     folder_path = os.path.join(root_folder, folder)\n",
    "#     files = os.listdir(folder_path)\n",
    "#     for file in files:\n",
    "#         file_path = os.path.join(folder_path, file).replace(\"~$\", \"09\")\n",
    "\n",
    "#         if file not in files_paths:\n",
    "#             files_paths[file] = []\n",
    "\n",
    "#         files_paths[file].append(file_path)"
   ]
  },
  {
   "cell_type": "code",
   "execution_count": 26,
   "id": "3e593fef-5b04-4689-a0ca-b10731c6e9b2",
   "metadata": {},
   "outputs": [],
   "source": [
    "# files_annotations = {}\n",
    "\n",
    "# for folder in annotation_folders:\n",
    "#     folder_path = os.path.join(root_folder, folder)\n",
    "#     files = os.listdir(folder_path)\n",
    "#     for file in files:\n",
    "#         file_path = os.path.join(folder_path, file).replace(\"~$\", \"09\")\n",
    "#         # print(file_path)\n",
    "#         doc = Document(file_path)\n",
    "#         label_annotation = get_label_annotation(doc, 7)\n",
    "\n",
    "#         if file not in files_annotations:\n",
    "#             files_annotations[file] = []\n",
    "\n",
    "#         files_annotations[file].append(label_annotation)"
   ]
  },
  {
   "cell_type": "code",
   "execution_count": 27,
   "id": "caa50cf9-ea19-4dab-adf1-b44f0a4078e0",
   "metadata": {},
   "outputs": [],
   "source": [
    "# file_names = list(files_annotations.keys())\n",
    "# for file_name in file_names:\n",
    "#     if len(set([len(annotation) for annotation in files_annotations[file_name]])) != 1 or len(files_annotations[file_name]) == 1:\n",
    "#         print(file_name)\n",
    "#         files_annotations.pop(file_name, ' ')"
   ]
  },
  {
   "cell_type": "code",
   "execution_count": 28,
   "id": "eabdc57c-eb5a-4a75-b1ab-ca5ecbeded27",
   "metadata": {},
   "outputs": [],
   "source": [
    "# for file_name in files_annotations.keys():\n",
    "#     print(file_name)"
   ]
  },
  {
   "cell_type": "code",
   "execution_count": 29,
   "id": "b19ab94c-a64b-4db8-8200-5670d7de1ad4",
   "metadata": {},
   "outputs": [],
   "source": [
    "# annotation_groups = {\n",
    "#     'No Statement': [],\n",
    "#     'less than 0': [],\n",
    "#     '0.01 – 0.20': [],\n",
    "#     '0.21 – 0.40': [],\n",
    "#     '0.41 – 0.60': [],\n",
    "#     '0.61 – 0.80': [],\n",
    "#     '0.81 – 1.00': []\n",
    "# }"
   ]
  },
  {
   "cell_type": "code",
   "execution_count": 30,
   "id": "7becfa3c-2a55-4e01-8f82-d421a0707696",
   "metadata": {},
   "outputs": [],
   "source": [
    "# for file_name in files_annotations.keys():\n",
    "#     agg = irr.aggregate_raters(pd.DataFrame(files_annotations[file_name]).T)\n",
    "#     fleiss_kappa_score = irr.fleiss_kappa(agg[0], method='fleiss')\n",
    "#     if 'Norming' in file_name:\n",
    "#         print(fleiss_kappa_score)\n",
    "#     if fleiss_kappa_score <= 0:\n",
    "#         annotation_groups['less than 0'].append(file_name)\n",
    "#     elif fleiss_kappa_score <= 0.2:\n",
    "#         annotation_groups['0.01 – 0.20'].append(file_name)\n",
    "#     elif fleiss_kappa_score <= 0.4:\n",
    "#         annotation_groups['0.21 – 0.40'].append(file_name)\n",
    "#     elif fleiss_kappa_score <= 0.6:\n",
    "#         annotation_groups['0.41 – 0.60'].append(file_name)\n",
    "#     elif fleiss_kappa_score <= 0.8:\n",
    "#         annotation_groups['0.61 – 0.80'].append(file_name)\n",
    "#     elif fleiss_kappa_score <= 1.0:\n",
    "#         annotation_groups['0.81 – 1.00'].append(file_name)\n",
    "#     else:\n",
    "#         annotation_groups['No Statement'].append(file_name)"
   ]
  },
  {
   "cell_type": "code",
   "execution_count": 31,
   "id": "7aa2bbf2-21d4-45d0-a5e6-80005b1295bf",
   "metadata": {},
   "outputs": [],
   "source": [
    "# root_output_folder = 'Grouped Annotations'\n",
    "# os.mkdir(root_output_folder)\n",
    "# for group in annotation_groups.keys():\n",
    "#     group_folder_path = os.path.join(root_output_folder, group)\n",
    "#     os.mkdir(group_folder_path)\n",
    "#     for file_name in annotation_groups[group]:\n",
    "#         if file_name in files_paths:\n",
    "#             file_folder_path = os.path.join(group_folder_path, file_name.split('.')[0])\n",
    "#             os.mkdir(file_folder_path)\n",
    "#             for i, file_path in enumerate(files_paths[file_name]):\n",
    "#                 doc = Document(file_path)\n",
    "#                 temp = file_name.split('.')\n",
    "#                 temp.insert(1, f'__{str(i+1)}.')\n",
    "#                 new_file_name = ''.join(temp)\n",
    "#                 doc.save(os.path.join(file_folder_path, new_file_name))"
   ]
  },
  {
   "cell_type": "code",
   "execution_count": 32,
   "id": "6597f5d9-06d6-41ae-b239-cc926c19c9d9",
   "metadata": {},
   "outputs": [],
   "source": [
    "# temp = [1,2,3,4,5]\n",
    "# temp = [i==2 for i in temp]\n",
    "# temp"
   ]
  },
  {
   "cell_type": "code",
   "execution_count": 33,
   "id": "0552cb22-2591-4283-857a-019169e1ce7d",
   "metadata": {},
   "outputs": [],
   "source": [
    "# norm_file_paths = files_paths['Thesis Statement Norming Set 1.docx']\n",
    "# para_annotations = [[] for _ in range(9)]\n",
    "\n",
    "# for norm_file_path in norm_file_paths:\n",
    "#     rater = norm_file_path.split('\\\\')[2].split()[2]\n",
    "#     doc = Document(norm_file_path)\n",
    "#     char_annotations = []\n",
    "#     print(rater)\n",
    "#     p_count = 0\n",
    "#     for para in doc.paragraphs:\n",
    "#         if para.text.strip():\n",
    "#             char_annotations = []\n",
    "#             for run in para.runs:\n",
    "#                 char_annotations += [int(run.font.highlight_color) if run.font.highlight_color else 99 for _ in range(len(run.text))]\n",
    "#             char_annotations = [i==7 for i in char_annotations]\n",
    "#             para_annotations[p_count].append(char_annotations)\n",
    "#             p_count += 1"
   ]
  },
  {
   "cell_type": "code",
   "execution_count": 34,
   "id": "a4060f39-a362-4cfe-9381-b51978f2c670",
   "metadata": {},
   "outputs": [],
   "source": [
    "# for para_annotation in para_annotations[1:]:\n",
    "#     temp = pd.DataFrame(para_annotation).T\n",
    "#     agg = irr.aggregate_raters(temp)\n",
    "#     fleiss_kappa_score = irr.fleiss_kappa(agg[0], method='fleiss')\n",
    "#     print(np.round(fleiss_kappa_score, 2))"
   ]
  },
  {
   "cell_type": "code",
   "execution_count": 35,
   "id": "3ca98306-ab2d-49ea-8db9-4a9d19ae88f3",
   "metadata": {},
   "outputs": [],
   "source": [
    "# temp = pd.DataFrame([[0,0,0,1,0], [0,0,0,1,1]]).T\n",
    "\n",
    "# print(temp)\n",
    "# agg = irr.aggregate_raters(temp)\n",
    "# fleiss_kappa_score = irr.fleiss_kappa(agg[0], method='fleiss')\n",
    "# print(fleiss_kappa_score)"
   ]
  }
 ],
 "metadata": {
  "kernelspec": {
   "display_name": "nlp_ra",
   "language": "python",
   "name": "nlp_ra"
  },
  "language_info": {
   "codemirror_mode": {
    "name": "ipython",
    "version": 3
   },
   "file_extension": ".py",
   "mimetype": "text/x-python",
   "name": "python",
   "nbconvert_exporter": "python",
   "pygments_lexer": "ipython3",
   "version": "3.10.14"
  }
 },
 "nbformat": 4,
 "nbformat_minor": 5
}
